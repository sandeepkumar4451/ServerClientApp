{
  "nbformat": 4,
  "nbformat_minor": 0,
  "metadata": {
    "colab": {
      "name": "AutoEncoder.ipynb",
      "provenance": [],
      "collapsed_sections": [],
      "authorship_tag": "ABX9TyP087sbZkkAoP069lBNQKG6",
      "include_colab_link": true
    },
    "kernelspec": {
      "name": "python3",
      "display_name": "Python 3"
    },
    "language_info": {
      "name": "python"
    }
  },
  "cells": [
    {
      "cell_type": "markdown",
      "metadata": {
        "id": "view-in-github",
        "colab_type": "text"
      },
      "source": [
        "<a href=\"https://colab.research.google.com/github/sandeepkumar4451/ServerClientApp/blob/main/AutoEncoder.ipynb\" target=\"_parent\"><img src=\"https://colab.research.google.com/assets/colab-badge.svg\" alt=\"Open In Colab\"/></a>"
      ]
    },
    {
      "cell_type": "code",
      "execution_count": 1,
      "metadata": {
        "colab": {
          "base_uri": "https://localhost:8080/"
        },
        "id": "VzPbfy46YSjC",
        "outputId": "fb6916ca-6cdc-4483-b6ef-bbcc69b74ee6"
      },
      "outputs": [
        {
          "output_type": "stream",
          "name": "stdout",
          "text": [
            "<class 'pandas.core.frame.DataFrame'>\n",
            "RangeIndex: 7973 entries, 0 to 7972\n",
            "Data columns (total 31 columns):\n",
            " #   Column  Non-Null Count  Dtype  \n",
            "---  ------  --------------  -----  \n",
            " 0   Time    7973 non-null   int64  \n",
            " 1   V1      7973 non-null   float64\n",
            " 2   V2      7973 non-null   float64\n",
            " 3   V3      7973 non-null   float64\n",
            " 4   V4      7973 non-null   float64\n",
            " 5   V5      7973 non-null   float64\n",
            " 6   V6      7973 non-null   float64\n",
            " 7   V7      7973 non-null   float64\n",
            " 8   V8      7973 non-null   float64\n",
            " 9   V9      7973 non-null   float64\n",
            " 10  V10     7973 non-null   float64\n",
            " 11  V11     7973 non-null   float64\n",
            " 12  V12     7973 non-null   float64\n",
            " 13  V13     7973 non-null   float64\n",
            " 14  V14     7973 non-null   float64\n",
            " 15  V15     7972 non-null   float64\n",
            " 16  V16     7972 non-null   float64\n",
            " 17  V17     7972 non-null   float64\n",
            " 18  V18     7972 non-null   float64\n",
            " 19  V19     7972 non-null   float64\n",
            " 20  V20     7972 non-null   float64\n",
            " 21  V21     7972 non-null   float64\n",
            " 22  V22     7972 non-null   float64\n",
            " 23  V23     7972 non-null   float64\n",
            " 24  V24     7972 non-null   float64\n",
            " 25  V25     7972 non-null   float64\n",
            " 26  V26     7972 non-null   float64\n",
            " 27  V27     7972 non-null   float64\n",
            " 28  V28     7972 non-null   float64\n",
            " 29  Amount  7972 non-null   float64\n",
            " 30  Class   7972 non-null   float64\n",
            "dtypes: float64(30), int64(1)\n",
            "memory usage: 1.9 MB\n"
          ]
        },
        {
          "output_type": "execute_result",
          "data": {
            "text/plain": [
              "(7973, 31)"
            ]
          },
          "metadata": {},
          "execution_count": 1
        }
      ],
      "source": [
        "import pandas as pd\n",
        "import numpy as np\n",
        "import matplotlib.pyplot as plt\n",
        "import seaborn as sns\n",
        "from sklearn.preprocessing import StandardScaler\n",
        "from sklearn.model_selection import train_test_split\n",
        "df=pd.read_csv('/content/creditcard.csv')\n",
        "df.head()\n",
        "df.info()\n",
        "df.shape"
      ]
    },
    {
      "cell_type": "code",
      "source": [
        "normal = df[df['Class']==0]\n",
        "fraud = df[df['Class']==1]\n",
        "print(\"Normal DataPoints: \",normal.shape[0])\n",
        "print(\"Fraud DataPoints: \", fraud.shape[0])"
      ],
      "metadata": {
        "colab": {
          "base_uri": "https://localhost:8080/"
        },
        "id": "rmpGgPyoZuOG",
        "outputId": "60a54455-5123-4180-d506-591a16eb88f9"
      },
      "execution_count": 2,
      "outputs": [
        {
          "output_type": "stream",
          "name": "stdout",
          "text": [
            "Normal DataPoints:  7947\n",
            "Fraud DataPoints:  25\n"
          ]
        }
      ]
    },
    {
      "cell_type": "code",
      "source": [
        "print((\"Distribution of fraudulent points:{:.2f}%\".format(len(df[df['Class']==1])/len(df)*100)))\n",
        "sns.countplot(df['Class'])\n",
        "plt.title('Class Distribution')\n",
        "plt.xticks(range(2),['Normal','Fraud'])\n",
        "plt.show()"
      ],
      "metadata": {
        "colab": {
          "base_uri": "https://localhost:8080/",
          "height": 367
        },
        "id": "Aikn3Msqao68",
        "outputId": "ebc8c0b3-7793-4615-dc76-f0228972acb9"
      },
      "execution_count": 4,
      "outputs": [
        {
          "output_type": "stream",
          "name": "stdout",
          "text": [
            "Distribution of fraudulent points:0.31%\n"
          ]
        },
        {
          "output_type": "stream",
          "name": "stderr",
          "text": [
            "/usr/local/lib/python3.7/dist-packages/seaborn/_decorators.py:43: FutureWarning: Pass the following variable as a keyword arg: x. From version 0.12, the only valid positional argument will be `data`, and passing other arguments without an explicit keyword will result in an error or misinterpretation.\n",
            "  FutureWarning\n"
          ]
        },
        {
          "output_type": "display_data",
          "data": {
            "text/plain": [
              "<Figure size 432x288 with 1 Axes>"
            ],
            "image/png": "[encoded data removed]"
          },
          "metadata": {
            "needs_background": "light"
          }
        }
      ]
    },
    {
      "cell_type": "code",
      "source": [
        "df.describe()\n",
        "normal['Amount'].describe()\n",
        "fraud['Amount'].describe()\n",
        "f, (ax1, ax2) = plt.subplots(2, 1, sharex=True, figsize = (10,10) )\n",
        "f.suptitle('Amount per transaction by class')\n",
        "bins = 10\n",
        "ax1.hist(fraud.Amount, bins = bins)\n",
        "ax1.set_title('Fraud')\n",
        "ax2.hist(normal.Amount, bins = bins)\n",
        "ax2.set_title('Normal')\n",
        "ax1.grid()\n",
        "ax2.grid()\n",
        "plt.xlabel('Amount ($)')\n",
        "plt.ylabel('Number of Transactions')\n",
        "plt.xlim((0, 20000))\n",
        "plt.yscale('log')\n",
        "plt.show();"
      ],
      "metadata": {
        "colab": {
          "base_uri": "https://localhost:8080/",
          "height": 677
        },
        "id": "5_-1oih5ckbB",
        "outputId": "3f54641c-c2f8-49c3-f183-0af35bb86f0b"
      },
      "execution_count": 5,
      "outputs": [
        {
          "output_type": "display_data",
          "data": {
            "text/plain": [
              "<Figure size 720x720 with 2 Axes>"
            ],
            "image/png": "[encoded data removed]"
          },
          "metadata": {
            "needs_background": "light"
          }
        }
      ]
    },
    {
      "cell_type": "code",
      "source": [
        "f, (ax1, ax2) = plt.subplots(2, 1, sharex=True, figsize=(10,10))\n",
        "f.suptitle('Time of transaction vs Amount by class')\n",
        "ax1.scatter(fraud.Time, fraud.Amount, marker='.')\n",
        "ax1.set_title('Fraud')\n",
        "ax1.grid()\n",
        "ax2.scatter(normal.Time, normal.Amount, marker='.')\n",
        "ax2.set_title('Normal')\n",
        "ax2.grid()\n",
        "plt.xlabel('Time (in Seconds)')\n",
        "plt.ylabel('Amount')\n",
        "plt.show()"
      ],
      "metadata": {
        "colab": {
          "base_uri": "https://localhost:8080/",
          "height": 677
        },
        "id": "8DldYoaydXJN",
        "outputId": "2d2fae28-4499-42c3-9bb4-e0645b0aaad8"
      },
      "execution_count": 6,
      "outputs": [
        {
          "output_type": "display_data",
          "data": {
            "text/plain": [
              "<Figure size 720x720 with 2 Axes>"
            ],
            "image/png": "[encoded data removed]"
          },
          "metadata": {
            "needs_background": "light"
          }
        }
      ]
    },
    {
      "cell_type": "code",
      "source": [
        "data = df.drop(['Time'], axis =1)\n",
        "X_train, X_test = train_test_split(data, test_size=0.2, random_state=42)\n",
        "X_train = X_train[X_train.Class == 0]\n",
        "X_train = X_train.drop(['Class'], axis=1)\n",
        "y_test = X_test['Class']\n",
        "X_test = X_test.drop(['Class'], axis=1)\n",
        "X_train = X_train\n",
        "X_test = X_test\n",
        "print(X_train.shape)\n",
        "#(227451,29)\n",
        "print(X_test.shape)\n",
        "#(56962,29)\n",
        "print(y_test.shape)\n",
        "#(56962)\n",
        "scaler = StandardScaler().fit(X_train.Amount.values.reshape(-1,1))\n",
        "X_train['Amount'] = scaler.transform(X_train.Amount.values.reshape(-1,1))\n",
        "X_test['Amount'] = scaler.transform(X_test.Amount.values.reshape(-1,1))\n",
        "X_train.shape"
      ],
      "metadata": {
        "colab": {
          "base_uri": "https://localhost:8080/"
        },
        "id": "-QsQ-7-BeXyb",
        "outputId": "87521d86-5194-4fe2-a384-ae83bbe8b512"
      },
      "execution_count": 7,
      "outputs": [
        {
          "output_type": "stream",
          "name": "stdout",
          "text": [
            "(6355, 29)\n",
            "(1595, 29)\n",
            "(1595,)\n"
          ]
        },
        {
          "output_type": "execute_result",
          "data": {
            "text/plain": [
              "(6355, 29)"
            ]
          },
          "metadata": {},
          "execution_count": 7
        }
      ]
    },
    {
      "cell_type": "code",
      "source": [
        "from keras.layers import Input, Dense\n",
        "from keras import regularizers\n",
        "from keras.models import Model, load_model\n",
        "from keras.callbacks import ModelCheckpoint, TensorBoard\n",
        "input_dim = X_train.shape[1]\n",
        "encoding_dim = 14\n",
        "input_layer = Input(shape=(input_dim,))\n",
        "encoder = Dense(encoding_dim, activation=\"tanh\",\n",
        "activity_regularizer=regularizers.l1(10e-5))(input_layer)\n",
        "encoder = Dense(int(encoding_dim / 2), activation=\"relu\")(encoder)\n",
        "decoder = Dense(int(encoding_dim / 2), activation='tanh')(encoder)\n",
        "decoder = Dense(input_dim, activation='relu')(decoder)\n",
        "autoencoder = Model(inputs=input_layer, outputs=decoder)\n",
        "X_train.shape\n",
        "#(227451,29)\n",
        "nb_epoch = 100\n",
        "batch_size = 32\n",
        "autoencoder.compile(optimizer='adam',\n",
        "loss='mean_squared_error',\n",
        ")\n",
        "checkpointer = ModelCheckpoint(filepath=\"model.h5\",\n",
        "verbose=0,\n",
        "save_best_only=True)\n",
        "tensorboard = TensorBoard(log_dir='./logs',\n",
        "histogram_freq=0,\n",
        "write_graph=True,\n",
        "write_images=True)\n",
        "history = autoencoder.fit(X_train, X_train,\n",
        "epochs=nb_epoch,\n",
        "batch_size=batch_size,\n",
        "shuffle=True,\n",
        "validation_split=0.3,\n",
        "verbose=1,\n",
        "callbacks=[checkpointer, tensorboard]).history"
      ],
      "metadata": {
        "colab": {
          "base_uri": "https://localhost:8080/"
        },
        "id": "Dhw4zEteenpR",
        "outputId": "95385ec7-c325-4506-d47b-87cfdce854d8"
      },
      "execution_count": 8,
      "outputs": [
        {
          "output_type": "stream",
          "name": "stdout",
          "text": [
            "Epoch 1/100\n",
            "139/139 [==============================] - 1s 4ms/step - loss: 1.0376 - val_loss: 1.0472\n",
            "Epoch 2/100\n",
            "139/139 [==============================] - 0s 2ms/step - loss: 0.9178 - val_loss: 0.9900\n",
            "Epoch 3/100\n",
            "139/139 [==============================] - 0s 3ms/step - loss: 0.8852 - val_loss: 0.9668\n",
            "Epoch 4/100\n",
            "139/139 [==============================] - 0s 3ms/step - loss: 0.8665 - val_loss: 0.9517\n",
            "Epoch 5/100\n",
            "139/139 [==============================] - 0s 3ms/step - loss: 0.8523 - val_loss: 0.9384\n",
            "Epoch 6/100\n",
            "139/139 [==============================] - 0s 2ms/step - loss: 0.8391 - val_loss: 0.9257\n",
            "Epoch 7/100\n",
            "139/139 [==============================] - 0s 3ms/step - loss: 0.8264 - val_loss: 0.9128\n",
            "Epoch 8/100\n",
            "139/139 [==============================] - 0s 3ms/step - loss: 0.8129 - val_loss: 0.9005\n",
            "Epoch 9/100\n",
            "139/139 [==============================] - 0s 3ms/step - loss: 0.8006 - val_loss: 0.8901\n",
            "Epoch 10/100\n",
            "139/139 [==============================] - 0s 3ms/step - loss: 0.7905 - val_loss: 0.8821\n",
            "Epoch 11/100\n",
            "139/139 [==============================] - 0s 2ms/step - loss: 0.7818 - val_loss: 0.8748\n",
            "Epoch 12/100\n",
            "139/139 [==============================] - 0s 3ms/step - loss: 0.7737 - val_loss: 0.8674\n",
            "Epoch 13/100\n",
            "139/139 [==============================] - 0s 3ms/step - loss: 0.7659 - val_loss: 0.8605\n",
            "Epoch 14/100\n",
            "139/139 [==============================] - 0s 3ms/step - loss: 0.7590 - val_loss: 0.8539\n",
            "Epoch 15/100\n",
            "139/139 [==============================] - 0s 3ms/step - loss: 0.7520 - val_loss: 0.8460\n",
            "Epoch 16/100\n",
            "139/139 [==============================] - 0s 2ms/step - loss: 0.7433 - val_loss: 0.8373\n",
            "Epoch 17/100\n",
            "139/139 [==============================] - 0s 3ms/step - loss: 0.7343 - val_loss: 0.8273\n",
            "Epoch 18/100\n",
            "139/139 [==============================] - 0s 3ms/step - loss: 0.7251 - val_loss: 0.8194\n",
            "Epoch 19/100\n",
            "139/139 [==============================] - 0s 3ms/step - loss: 0.7175 - val_loss: 0.8127\n",
            "Epoch 20/100\n",
            "139/139 [==============================] - 0s 3ms/step - loss: 0.7111 - val_loss: 0.8070\n",
            "Epoch 21/100\n",
            "139/139 [==============================] - 0s 3ms/step - loss: 0.7055 - val_loss: 0.8020\n",
            "Epoch 22/100\n",
            "139/139 [==============================] - 0s 2ms/step - loss: 0.7005 - val_loss: 0.7979\n",
            "Epoch 23/100\n",
            "139/139 [==============================] - 0s 3ms/step - loss: 0.6965 - val_loss: 0.7943\n",
            "Epoch 24/100\n",
            "139/139 [==============================] - 0s 3ms/step - loss: 0.6926 - val_loss: 0.7909\n",
            "Epoch 25/100\n",
            "139/139 [==============================] - 0s 2ms/step - loss: 0.6890 - val_loss: 0.7882\n",
            "Epoch 26/100\n",
            "139/139 [==============================] - 0s 3ms/step - loss: 0.6858 - val_loss: 0.7859\n",
            "Epoch 27/100\n",
            "139/139 [==============================] - 0s 2ms/step - loss: 0.6810 - val_loss: 0.7806\n",
            "Epoch 28/100\n",
            "139/139 [==============================] - 0s 3ms/step - loss: 0.6749 - val_loss: 0.7753\n",
            "Epoch 29/100\n",
            "139/139 [==============================] - 0s 3ms/step - loss: 0.6698 - val_loss: 0.7727\n",
            "Epoch 30/100\n",
            "139/139 [==============================] - 0s 2ms/step - loss: 0.6657 - val_loss: 0.7696\n",
            "Epoch 31/100\n",
            "139/139 [==============================] - 0s 3ms/step - loss: 0.6615 - val_loss: 0.7657\n",
            "Epoch 32/100\n",
            "139/139 [==============================] - 0s 3ms/step - loss: 0.6574 - val_loss: 0.7626\n",
            "Epoch 33/100\n",
            "139/139 [==============================] - 0s 2ms/step - loss: 0.6538 - val_loss: 0.7588\n",
            "Epoch 34/100\n",
            "139/139 [==============================] - 0s 3ms/step - loss: 0.6500 - val_loss: 0.7572\n",
            "Epoch 35/100\n",
            "139/139 [==============================] - 0s 3ms/step - loss: 0.6465 - val_loss: 0.7519\n",
            "Epoch 36/100\n",
            "139/139 [==============================] - 0s 3ms/step - loss: 0.6433 - val_loss: 0.7499\n",
            "Epoch 37/100\n",
            "139/139 [==============================] - 0s 3ms/step - loss: 0.6406 - val_loss: 0.7477\n",
            "Epoch 38/100\n",
            "139/139 [==============================] - 0s 2ms/step - loss: 0.6381 - val_loss: 0.7454\n",
            "Epoch 39/100\n",
            "139/139 [==============================] - 0s 3ms/step - loss: 0.6362 - val_loss: 0.7430\n",
            "Epoch 40/100\n",
            "139/139 [==============================] - 0s 3ms/step - loss: 0.6345 - val_loss: 0.7414\n",
            "Epoch 41/100\n",
            "139/139 [==============================] - 0s 3ms/step - loss: 0.6326 - val_loss: 0.7399\n",
            "Epoch 42/100\n",
            "139/139 [==============================] - 0s 3ms/step - loss: 0.6310 - val_loss: 0.7388\n",
            "Epoch 43/100\n",
            "139/139 [==============================] - 0s 3ms/step - loss: 0.6297 - val_loss: 0.7378\n",
            "Epoch 44/100\n",
            "139/139 [==============================] - 0s 3ms/step - loss: 0.6284 - val_loss: 0.7357\n",
            "Epoch 45/100\n",
            "139/139 [==============================] - 0s 3ms/step - loss: 0.6272 - val_loss: 0.7357\n",
            "Epoch 46/100\n",
            "139/139 [==============================] - 0s 2ms/step - loss: 0.6261 - val_loss: 0.7344\n",
            "Epoch 47/100\n",
            "139/139 [==============================] - 0s 3ms/step - loss: 0.6251 - val_loss: 0.7328\n",
            "Epoch 48/100\n",
            "139/139 [==============================] - 0s 2ms/step - loss: 0.6241 - val_loss: 0.7321\n",
            "Epoch 49/100\n",
            "139/139 [==============================] - 0s 2ms/step - loss: 0.6234 - val_loss: 0.7319\n",
            "Epoch 50/100\n",
            "139/139 [==============================] - 0s 3ms/step - loss: 0.6226 - val_loss: 0.7304\n",
            "Epoch 51/100\n",
            "139/139 [==============================] - 0s 2ms/step - loss: 0.6219 - val_loss: 0.7307\n",
            "Epoch 52/100\n",
            "139/139 [==============================] - 0s 3ms/step - loss: 0.6210 - val_loss: 0.7296\n",
            "Epoch 53/100\n",
            "139/139 [==============================] - 0s 3ms/step - loss: 0.6203 - val_loss: 0.7280\n",
            "Epoch 54/100\n",
            "139/139 [==============================] - 0s 3ms/step - loss: 0.6199 - val_loss: 0.7277\n",
            "Epoch 55/100\n",
            "139/139 [==============================] - 0s 3ms/step - loss: 0.6191 - val_loss: 0.7258\n",
            "Epoch 56/100\n",
            "139/139 [==============================] - 0s 3ms/step - loss: 0.6181 - val_loss: 0.7250\n",
            "Epoch 57/100\n",
            "139/139 [==============================] - 0s 3ms/step - loss: 0.6177 - val_loss: 0.7243\n",
            "Epoch 58/100\n",
            "139/139 [==============================] - 0s 3ms/step - loss: 0.6169 - val_loss: 0.7222\n",
            "Epoch 59/100\n",
            "139/139 [==============================] - 0s 3ms/step - loss: 0.6162 - val_loss: 0.7204\n",
            "Epoch 60/100\n",
            "139/139 [==============================] - 0s 3ms/step - loss: 0.6155 - val_loss: 0.7194\n",
            "Epoch 61/100\n",
            "139/139 [==============================] - 0s 3ms/step - loss: 0.6146 - val_loss: 0.7172\n",
            "Epoch 62/100\n",
            "139/139 [==============================] - 0s 3ms/step - loss: 0.6139 - val_loss: 0.7161\n",
            "Epoch 63/100\n",
            "139/139 [==============================] - 0s 3ms/step - loss: 0.6131 - val_loss: 0.7148\n",
            "Epoch 64/100\n",
            "139/139 [==============================] - 0s 3ms/step - loss: 0.6125 - val_loss: 0.7138\n",
            "Epoch 65/100\n",
            "139/139 [==============================] - 0s 3ms/step - loss: 0.6115 - val_loss: 0.7126\n",
            "Epoch 66/100\n",
            "139/139 [==============================] - 0s 3ms/step - loss: 0.6107 - val_loss: 0.7115\n",
            "Epoch 67/100\n",
            "139/139 [==============================] - 0s 3ms/step - loss: 0.6101 - val_loss: 0.7098\n",
            "Epoch 68/100\n",
            "139/139 [==============================] - 0s 3ms/step - loss: 0.6094 - val_loss: 0.7089\n",
            "Epoch 69/100\n",
            "139/139 [==============================] - 1s 8ms/step - loss: 0.6088 - val_loss: 0.7088\n",
            "Epoch 70/100\n",
            "139/139 [==============================] - 0s 3ms/step - loss: 0.6081 - val_loss: 0.7069\n",
            "Epoch 71/100\n",
            "139/139 [==============================] - 0s 3ms/step - loss: 0.6075 - val_loss: 0.7058\n",
            "Epoch 72/100\n",
            "139/139 [==============================] - 0s 3ms/step - loss: 0.6072 - val_loss: 0.7043\n",
            "Epoch 73/100\n",
            "139/139 [==============================] - 0s 3ms/step - loss: 0.6064 - val_loss: 0.7034\n",
            "Epoch 74/100\n",
            "139/139 [==============================] - 0s 3ms/step - loss: 0.6057 - val_loss: 0.7037\n",
            "Epoch 75/100\n",
            "139/139 [==============================] - 0s 3ms/step - loss: 0.6056 - val_loss: 0.7036\n",
            "Epoch 76/100\n",
            "139/139 [==============================] - 0s 3ms/step - loss: 0.6051 - val_loss: 0.7016\n",
            "Epoch 77/100\n",
            "139/139 [==============================] - 0s 3ms/step - loss: 0.6047 - val_loss: 0.6997\n",
            "Epoch 78/100\n",
            "139/139 [==============================] - 0s 3ms/step - loss: 0.6041 - val_loss: 0.6990\n",
            "Epoch 79/100\n",
            "139/139 [==============================] - 0s 3ms/step - loss: 0.6037 - val_loss: 0.6982\n",
            "Epoch 80/100\n",
            "139/139 [==============================] - 0s 3ms/step - loss: 0.6032 - val_loss: 0.6977\n",
            "Epoch 81/100\n",
            "139/139 [==============================] - 0s 3ms/step - loss: 0.6030 - val_loss: 0.6975\n",
            "Epoch 82/100\n",
            "139/139 [==============================] - 0s 3ms/step - loss: 0.6026 - val_loss: 0.6969\n",
            "Epoch 83/100\n",
            "139/139 [==============================] - 0s 3ms/step - loss: 0.6023 - val_loss: 0.6971\n",
            "Epoch 84/100\n",
            "139/139 [==============================] - 0s 3ms/step - loss: 0.6021 - val_loss: 0.6960\n",
            "Epoch 85/100\n",
            "139/139 [==============================] - 0s 3ms/step - loss: 0.6018 - val_loss: 0.6947\n",
            "Epoch 86/100\n",
            "139/139 [==============================] - 0s 3ms/step - loss: 0.6012 - val_loss: 0.6942\n",
            "Epoch 87/100\n",
            "139/139 [==============================] - 0s 3ms/step - loss: 0.6011 - val_loss: 0.6940\n",
            "Epoch 88/100\n",
            "139/139 [==============================] - 0s 3ms/step - loss: 0.6005 - val_loss: 0.6929\n",
            "Epoch 89/100\n",
            "139/139 [==============================] - 0s 3ms/step - loss: 0.6007 - val_loss: 0.6918\n",
            "Epoch 90/100\n",
            "139/139 [==============================] - 0s 3ms/step - loss: 0.6000 - val_loss: 0.6918\n",
            "Epoch 91/100\n",
            "139/139 [==============================] - 1s 8ms/step - loss: 0.5998 - val_loss: 0.6908\n",
            "Epoch 92/100\n",
            "139/139 [==============================] - 1s 4ms/step - loss: 0.5996 - val_loss: 0.6903\n",
            "Epoch 93/100\n",
            "139/139 [==============================] - 1s 8ms/step - loss: 0.5996 - val_loss: 0.6912\n",
            "Epoch 94/100\n",
            "139/139 [==============================] - 0s 3ms/step - loss: 0.5991 - val_loss: 0.6901\n",
            "Epoch 95/100\n",
            "139/139 [==============================] - 0s 3ms/step - loss: 0.5987 - val_loss: 0.6890\n",
            "Epoch 96/100\n",
            "139/139 [==============================] - 0s 3ms/step - loss: 0.5988 - val_loss: 0.6886\n",
            "Epoch 97/100\n",
            "139/139 [==============================] - 0s 2ms/step - loss: 0.5984 - val_loss: 0.6890\n",
            "Epoch 98/100\n",
            "139/139 [==============================] - 0s 3ms/step - loss: 0.5983 - val_loss: 0.6879\n",
            "Epoch 99/100\n",
            "139/139 [==============================] - 0s 3ms/step - loss: 0.5980 - val_loss: 0.6879\n",
            "Epoch 100/100\n",
            "139/139 [==============================] - 0s 3ms/step - loss: 0.5977 - val_loss: 0.6870\n"
          ]
        }
      ]
    }
  ]
}